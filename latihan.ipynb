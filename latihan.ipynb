{
 "cells": [
  {
   "cell_type": "code",
   "execution_count": 8,
   "id": "37ac4aa7-f7d9-4fc8-b40b-27f8dcb60063",
   "metadata": {},
   "outputs": [],
   "source": [
    "import cv2\n",
    "import os\n",
    "import time\n",
    "cam = cv2.VideoCapture(0)\n",
    "cam.set(3, 640) \n",
    "cam.set(4, 480) \n",
    "Eyesglass_on = False\n",
    "faceDetector = cv2.CascadeClassifier('haarcascade_frontalface_default.xml')\n",
    "eyesDetector = cv2.CascadeClassifier('haarcascade_eye.xml')\n",
    "while True:\n",
    "    retV, frame = cam.read()\n",
    "    abuAbu = cv2.cvtColor(frame, cv2.COLOR_BGR2GRAY)\n",
    "    faces = faceDetector.detectMultiScale(abuAbu, 1.1, 5)\n",
    "    # gambar kotak diwajah\n",
    "    for (x, y, w, h) in faces:\n",
    "        roi_gray = abuAbu[y:y+h, x:x+w]\n",
    "        roi_color = frame[y:y+h, x:x+w]\n",
    "        if Eyesglass_on:\n",
    "            cv2.rectangle(frame, (x, y), (x+w, y+h), (0, 255, 0), 3)\n",
    "            cv2.putText(frame,'Ready To Work',(x,y), cv2.FONT_HERSHEY_SIMPLEX, 1,(0,255,0),3)\n",
    "        else :\n",
    "            cv2.rectangle(frame, (x, y), (x+w,y+h), (0, 0, 255), 3)\n",
    "            cv2.putText(frame,'Use The Eyeshield',(x,y), cv2.FONT_HERSHEY_SIMPLEX, 1,(0,0,255),3)\n",
    "            #os.system(\"alarm.mp3\")\n",
    "            #time.sleep(1)\n",
    "        \n",
    "    # gambar kotak dimata\n",
    "    mata = eyesDetector.detectMultiScale(frame, 1.3, 5)\n",
    "    for (sx, sy, sw, sh) in mata :\n",
    "            cv2.rectangle(frame, (sh, sy), (sx+sw, sy+sh), (255, 0, 0), 3)\n",
    "           # cv2.putText(frame, 'mata', (x + sx,y + sy), 1, 1, (0, 255, 0), 2)\n",
    "    \n",
    "    if len(mata)>0:\n",
    "        Eyesglass_on = False\n",
    "    else :\n",
    "        Eyesglass_on = True\n",
    "\n",
    "    cv2.imshow('SmartSafetyScanner',frame)\n",
    "    #cv2.imshow('Webcam - Grey', abuAbu)\n",
    "    k = cv2.waitKey(1) & 0xFF\n",
    "    if k == 27 or k == ord('q'):\n",
    "        break\n",
    "cam.release()\n",
    "cv2.destroyAllWindows()"
   ]
  },
  {
   "cell_type": "code",
   "execution_count": 16,
   "id": "1d6768aa-455b-4e3f-b52f-2a96a1f4920b",
   "metadata": {},
   "outputs": [],
   "source": []
  },
  {
   "cell_type": "code",
   "execution_count": 22,
   "id": "d41bfb12-8ecc-435f-bbd5-9d4219f76cca",
   "metadata": {},
   "outputs": [],
   "source": []
  },
  {
   "cell_type": "code",
   "execution_count": null,
   "id": "0ccba1ab-8394-470a-b53d-dbe932cb5b8e",
   "metadata": {},
   "outputs": [],
   "source": []
  },
  {
   "cell_type": "code",
   "execution_count": null,
   "id": "3c8052e5-44c9-446a-8fb3-c14e8f8caad2",
   "metadata": {},
   "outputs": [],
   "source": []
  },
  {
   "cell_type": "code",
   "execution_count": null,
   "id": "712cbea4-03ca-4e0a-b8d6-21a4ffa980f0",
   "metadata": {},
   "outputs": [],
   "source": []
  }
 ],
 "metadata": {
  "kernelspec": {
   "display_name": "Python 3",
   "language": "python",
   "name": "python3"
  },
  "language_info": {
   "codemirror_mode": {
    "name": "ipython",
    "version": 3
   },
   "file_extension": ".py",
   "mimetype": "text/x-python",
   "name": "python",
   "nbconvert_exporter": "python",
   "pygments_lexer": "ipython3",
   "version": "3.9.5"
  }
 },
 "nbformat": 4,
 "nbformat_minor": 5
}
